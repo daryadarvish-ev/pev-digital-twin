{
 "cells": [
  {
   "cell_type": "code",
   "execution_count": 1,
   "id": "b84114e7-12be-4b3d-94b8-99edc93f8b8f",
   "metadata": {},
   "outputs": [],
   "source": [
    "import sys, os\n",
    "sys.path.insert(1, os.getcwd() + '\\..\\src')\n",
    "sys.path.insert(1, os.getcwd() + '/../src')"
   ]
  },
  {
   "cell_type": "code",
   "execution_count": 2,
   "id": "fa1bc4aa-9ae7-46bd-abae-bcd00f9dde32",
   "metadata": {},
   "outputs": [],
   "source": [
    "from session_generator import *\n",
    "import pandas as pd\n",
    "import seaborn as sns"
   ]
  },
  {
   "cell_type": "code",
   "execution_count": 5,
   "id": "883198e3-2bf0-45e5-b51a-9ae01b373f8f",
   "metadata": {},
   "outputs": [
    {
     "data": {
      "text/html": [
       "<div>\n",
       "<style scoped>\n",
       "    .dataframe tbody tr th:only-of-type {\n",
       "        vertical-align: middle;\n",
       "    }\n",
       "\n",
       "    .dataframe tbody tr th {\n",
       "        vertical-align: top;\n",
       "    }\n",
       "\n",
       "    .dataframe thead th {\n",
       "        text-align: right;\n",
       "    }\n",
       "</style>\n",
       "<table border=\"1\" class=\"dataframe\">\n",
       "  <thead>\n",
       "    <tr style=\"text-align: right;\">\n",
       "      <th></th>\n",
       "      <th>arrivalDay</th>\n",
       "      <th>arrivalMin</th>\n",
       "      <th>arrivalMinGlobal</th>\n",
       "      <th>durationMin</th>\n",
       "      <th>cumEnergy_Wh</th>\n",
       "    </tr>\n",
       "  </thead>\n",
       "  <tbody>\n",
       "    <tr>\n",
       "      <th>0</th>\n",
       "      <td>0</td>\n",
       "      <td>364</td>\n",
       "      <td>364</td>\n",
       "      <td>180</td>\n",
       "      <td>20</td>\n",
       "    </tr>\n",
       "    <tr>\n",
       "      <th>1</th>\n",
       "      <td>0</td>\n",
       "      <td>467</td>\n",
       "      <td>467</td>\n",
       "      <td>630</td>\n",
       "      <td>40</td>\n",
       "    </tr>\n",
       "    <tr>\n",
       "      <th>2</th>\n",
       "      <td>0</td>\n",
       "      <td>480</td>\n",
       "      <td>480</td>\n",
       "      <td>270</td>\n",
       "      <td>30</td>\n",
       "    </tr>\n",
       "    <tr>\n",
       "      <th>3</th>\n",
       "      <td>0</td>\n",
       "      <td>535</td>\n",
       "      <td>535</td>\n",
       "      <td>630</td>\n",
       "      <td>20</td>\n",
       "    </tr>\n",
       "    <tr>\n",
       "      <th>4</th>\n",
       "      <td>0</td>\n",
       "      <td>576</td>\n",
       "      <td>576</td>\n",
       "      <td>450</td>\n",
       "      <td>50</td>\n",
       "    </tr>\n",
       "    <tr>\n",
       "      <th>5</th>\n",
       "      <td>0</td>\n",
       "      <td>631</td>\n",
       "      <td>631</td>\n",
       "      <td>510</td>\n",
       "      <td>30</td>\n",
       "    </tr>\n",
       "    <tr>\n",
       "      <th>6</th>\n",
       "      <td>0</td>\n",
       "      <td>642</td>\n",
       "      <td>642</td>\n",
       "      <td>570</td>\n",
       "      <td>60</td>\n",
       "    </tr>\n",
       "    <tr>\n",
       "      <th>7</th>\n",
       "      <td>0</td>\n",
       "      <td>977</td>\n",
       "      <td>977</td>\n",
       "      <td>300</td>\n",
       "      <td>20</td>\n",
       "    </tr>\n",
       "    <tr>\n",
       "      <th>8</th>\n",
       "      <td>0</td>\n",
       "      <td>1016</td>\n",
       "      <td>1016</td>\n",
       "      <td>210</td>\n",
       "      <td>20</td>\n",
       "    </tr>\n",
       "    <tr>\n",
       "      <th>9</th>\n",
       "      <td>0</td>\n",
       "      <td>1045</td>\n",
       "      <td>1045</td>\n",
       "      <td>180</td>\n",
       "      <td>10</td>\n",
       "    </tr>\n",
       "  </tbody>\n",
       "</table>\n",
       "</div>"
      ],
      "text/plain": [
       "  arrivalDay  arrivalMin  arrivalMinGlobal  durationMin  cumEnergy_Wh\n",
       "0          0         364               364          180            20\n",
       "1          0         467               467          630            40\n",
       "2          0         480               480          270            30\n",
       "3          0         535               535          630            20\n",
       "4          0         576               576          450            50\n",
       "5          0         631               631          510            30\n",
       "6          0         642               642          570            60\n",
       "7          0         977               977          300            20\n",
       "8          0        1016              1016          210            20\n",
       "9          0        1045              1045          180            10"
      ]
     },
     "execution_count": 5,
     "metadata": {},
     "output_type": "execute_result"
    }
   ],
   "source": [
    "# List with number of sessions for different days ([number of sessions on day 1, ..., number of sessions on the last day])\n",
    "daily_sessions = [10]*10\n",
    "\n",
    "input_gen = InputGen(daily_sessions=daily_sessions, data_file='data/Sessions2.csv', rnd_seeds=(4,5,30))\n",
    "# Remove outliers:\n",
    "input_gen.data = input_gen.data[(input_gen.data['DurationHrs'] < 15) & (input_gen.data['DurationHrs'] > 1/6)]\n",
    "input_gen.data = input_gen.data[input_gen.data['cumEnergy_Wh'] / input_gen.data['DurationHrs'] <= 6700]\n",
    "\n",
    "input_gen.arrival_gen()\n",
    "input_gen.duration_gen()\n",
    "input_gen.energy_gen()\n",
    "\n",
    "input_df = input_gen.df\n",
    "\n",
    "#input_df['arrivalMin'] = input_df['arrivalMin'].apply(lambda x: round(x/30)*30 + 30)\n",
    "#input_df['arrivalMinGlobal'] = input_df['arrivalMinGlobal'].apply(lambda x: round(x/30)*30 + 30)\n",
    "input_df['durationMin'] = input_df['durationMin'].apply(lambda x: round(x/30)*30 + 90)\n",
    "input_df['cumEnergy_Wh'] = input_df['cumEnergy_Wh'].apply(lambda x: round(x/10)*10 + 10)\n",
    "\n",
    "input_df.head(10)"
   ]
  },
  {
   "cell_type": "code",
   "execution_count": 6,
   "id": "22f6694b-e784-4b1c-b3ed-cd96e7fb3dec",
   "metadata": {},
   "outputs": [
    {
     "data": {
      "text/plain": [
       "20    33\n",
       "10    26\n",
       "30    13\n",
       "40    11\n",
       "50     8\n",
       "70     5\n",
       "60     4\n",
       "Name: cumEnergy_Wh, dtype: int64"
      ]
     },
     "execution_count": 6,
     "metadata": {},
     "output_type": "execute_result"
    }
   ],
   "source": [
    "input_df['cumEnergy_Wh'].value_counts()"
   ]
  },
  {
   "cell_type": "code",
   "execution_count": 10,
   "id": "83ae6fbf-5c41-4ab5-9e0a-5bdce99c79b5",
   "metadata": {},
   "outputs": [
    {
     "data": {
      "image/png": "[encoded data removed]",
      "text/plain": [
       "<Figure size 640x480 with 1 Axes>"
      ]
     },
     "metadata": {},
     "output_type": "display_data"
    }
   ],
   "source": [
    "input_df_hist = pd.DataFrame(input_df['arrivalMin'])\n",
    "input_df_hist['leaveMin']=input_df['arrivalMin'] + input_df['durationMin']\n",
    "\n",
    "# plot melted dataframe in a single command\n",
    "p=sns.histplot(input_df_hist.melt(), x='value', hue='variable',\n",
    "             multiple='dodge', shrink=.75, bins=48)\n",
    "\n",
    "p.set_xlabel(\"minute\", fontsize = 10)\n",
    "p.set_ylabel(\"frequency\", fontsize = 10);"
   ]
  },
  {
   "cell_type": "code",
   "execution_count": 11,
   "id": "6bdec396-3e8d-4729-a718-bbe26a44b83f",
   "metadata": {},
   "outputs": [
    {
     "data": {
      "text/html": [
       "<div>\n",
       "<style scoped>\n",
       "    .dataframe tbody tr th:only-of-type {\n",
       "        vertical-align: middle;\n",
       "    }\n",
       "\n",
       "    .dataframe tbody tr th {\n",
       "        vertical-align: top;\n",
       "    }\n",
       "\n",
       "    .dataframe thead th {\n",
       "        text-align: right;\n",
       "    }\n",
       "</style>\n",
       "<table border=\"1\" class=\"dataframe\">\n",
       "  <thead>\n",
       "    <tr style=\"text-align: right;\">\n",
       "      <th></th>\n",
       "      <th>arrivalMin</th>\n",
       "      <th>leaveMin</th>\n",
       "    </tr>\n",
       "  </thead>\n",
       "  <tbody>\n",
       "    <tr>\n",
       "      <th>0</th>\n",
       "      <td>364</td>\n",
       "      <td>544</td>\n",
       "    </tr>\n",
       "    <tr>\n",
       "      <th>1</th>\n",
       "      <td>467</td>\n",
       "      <td>1097</td>\n",
       "    </tr>\n",
       "    <tr>\n",
       "      <th>2</th>\n",
       "      <td>480</td>\n",
       "      <td>750</td>\n",
       "    </tr>\n",
       "    <tr>\n",
       "      <th>3</th>\n",
       "      <td>535</td>\n",
       "      <td>1165</td>\n",
       "    </tr>\n",
       "    <tr>\n",
       "      <th>4</th>\n",
       "      <td>576</td>\n",
       "      <td>1026</td>\n",
       "    </tr>\n",
       "  </tbody>\n",
       "</table>\n",
       "</div>"
      ],
      "text/plain": [
       "   arrivalMin  leaveMin\n",
       "0         364       544\n",
       "1         467      1097\n",
       "2         480       750\n",
       "3         535      1165\n",
       "4         576      1026"
      ]
     },
     "execution_count": 11,
     "metadata": {},
     "output_type": "execute_result"
    }
   ],
   "source": [
    "input_df_hist.head()"
   ]
  },
  {
   "cell_type": "code",
   "execution_count": 12,
   "id": "af59cf56-2e9a-430c-a424-02429a419030",
   "metadata": {},
   "outputs": [
    {
     "data": {
      "text/plain": [
       "364"
      ]
     },
     "execution_count": 12,
     "metadata": {},
     "output_type": "execute_result"
    }
   ],
   "source": [
    "input_df['arrivalMinGlobal'][0]"
   ]
  }
 ],
 "metadata": {
  "kernelspec": {
   "display_name": "Python 3 (ipykernel)",
   "language": "python",
   "name": "python3"
  },
  "language_info": {
   "codemirror_mode": {
    "name": "ipython",
    "version": 3
   },
   "file_extension": ".py",
   "mimetype": "text/x-python",
   "name": "python",
   "nbconvert_exporter": "python",
   "pygments_lexer": "ipython3",
   "version": "3.10.6"
  }
 },
 "nbformat": 4,
 "nbformat_minor": 5
}

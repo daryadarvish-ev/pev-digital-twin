{
 "cells": [
  {
   "cell_type": "code",
   "execution_count": 3,
   "id": "a85c78bc-e30f-40f7-9ac7-64d5fc215efc",
   "metadata": {},
   "outputs": [],
   "source": [
    "import sys, os\n",
    "sys.path.insert(1, os.getcwd() + '\\..\\src')\n",
    "sys.path.insert(1, os.getcwd() + '/../src')"
   ]
  },
  {
   "cell_type": "code",
   "execution_count": 4,
   "id": "025dcf4f-021c-40c7-915a-879ab9bd48ec",
   "metadata": {},
   "outputs": [],
   "source": [
    "from session_generator import *\n",
    "from pev_digital_twin import *"
   ]
  },
  {
   "cell_type": "markdown",
   "id": "7b9f9658-2840-40f8-a3a2-5045818d94d2",
   "metadata": {},
   "source": [
    "# Main Simulation"
   ]
  },
  {
   "cell_type": "code",
   "execution_count": 5,
   "id": "1d1bfe90-28bf-4746-ba80-cd8718ebf8da",
   "metadata": {},
   "outputs": [
    {
     "data": {
      "text/html": [
       "<div>\n",
       "<style scoped>\n",
       "    .dataframe tbody tr th:only-of-type {\n",
       "        vertical-align: middle;\n",
       "    }\n",
       "\n",
       "    .dataframe tbody tr th {\n",
       "        vertical-align: top;\n",
       "    }\n",
       "\n",
       "    .dataframe thead th {\n",
       "        text-align: right;\n",
       "    }\n",
       "</style>\n",
       "<table border=\"1\" class=\"dataframe\">\n",
       "  <thead>\n",
       "    <tr style=\"text-align: right;\">\n",
       "      <th></th>\n",
       "      <th>arrivalDay</th>\n",
       "      <th>arrivalMin</th>\n",
       "      <th>arrivalMinGlobal</th>\n",
       "      <th>durationMin</th>\n",
       "      <th>cumEnergy_Wh</th>\n",
       "    </tr>\n",
       "  </thead>\n",
       "  <tbody>\n",
       "    <tr>\n",
       "      <th>0</th>\n",
       "      <td>0</td>\n",
       "      <td>98</td>\n",
       "      <td>98</td>\n",
       "      <td>180</td>\n",
       "      <td>20</td>\n",
       "    </tr>\n",
       "    <tr>\n",
       "      <th>1</th>\n",
       "      <td>0</td>\n",
       "      <td>475</td>\n",
       "      <td>475</td>\n",
       "      <td>600</td>\n",
       "      <td>40</td>\n",
       "    </tr>\n",
       "    <tr>\n",
       "      <th>2</th>\n",
       "      <td>0</td>\n",
       "      <td>487</td>\n",
       "      <td>487</td>\n",
       "      <td>270</td>\n",
       "      <td>30</td>\n",
       "    </tr>\n",
       "    <tr>\n",
       "      <th>3</th>\n",
       "      <td>0</td>\n",
       "      <td>544</td>\n",
       "      <td>544</td>\n",
       "      <td>630</td>\n",
       "      <td>20</td>\n",
       "    </tr>\n",
       "    <tr>\n",
       "      <th>4</th>\n",
       "      <td>0</td>\n",
       "      <td>579</td>\n",
       "      <td>579</td>\n",
       "      <td>390</td>\n",
       "      <td>40</td>\n",
       "    </tr>\n",
       "    <tr>\n",
       "      <th>5</th>\n",
       "      <td>0</td>\n",
       "      <td>647</td>\n",
       "      <td>647</td>\n",
       "      <td>450</td>\n",
       "      <td>30</td>\n",
       "    </tr>\n",
       "    <tr>\n",
       "      <th>6</th>\n",
       "      <td>0</td>\n",
       "      <td>659</td>\n",
       "      <td>659</td>\n",
       "      <td>360</td>\n",
       "      <td>40</td>\n",
       "    </tr>\n",
       "    <tr>\n",
       "      <th>7</th>\n",
       "      <td>0</td>\n",
       "      <td>1115</td>\n",
       "      <td>1115</td>\n",
       "      <td>270</td>\n",
       "      <td>20</td>\n",
       "    </tr>\n",
       "    <tr>\n",
       "      <th>8</th>\n",
       "      <td>0</td>\n",
       "      <td>1148</td>\n",
       "      <td>1148</td>\n",
       "      <td>210</td>\n",
       "      <td>20</td>\n",
       "    </tr>\n",
       "    <tr>\n",
       "      <th>9</th>\n",
       "      <td>0</td>\n",
       "      <td>1165</td>\n",
       "      <td>1165</td>\n",
       "      <td>150</td>\n",
       "      <td>10</td>\n",
       "    </tr>\n",
       "  </tbody>\n",
       "</table>\n",
       "</div>"
      ],
      "text/plain": [
       "  arrivalDay  arrivalMin  arrivalMinGlobal  durationMin  cumEnergy_Wh\n",
       "0          0          98                98          180            20\n",
       "1          0         475               475          600            40\n",
       "2          0         487               487          270            30\n",
       "3          0         544               544          630            20\n",
       "4          0         579               579          390            40\n",
       "5          0         647               647          450            30\n",
       "6          0         659               659          360            40\n",
       "7          0        1115              1115          270            20\n",
       "8          0        1148              1148          210            20\n",
       "9          0        1165              1165          150            10"
      ]
     },
     "execution_count": 5,
     "metadata": {},
     "output_type": "execute_result"
    }
   ],
   "source": [
    "# List with number of sessions for different days ([number of sessions on day 1, ..., number of sessions on the last day])\n",
    "daily_sessions = [10]*10\n",
    "\n",
    "try:\n",
    "    input_gen = InputGen(daily_sessions=daily_sessions, data_file='..\\data\\Sessions2_20221020.csv', rnd_seeds=(4,5,30))\n",
    "except:\n",
    "    input_gen = InputGen(daily_sessions=daily_sessions, data_file='../data/Sessions2_20221020.csv', rnd_seeds=(4,5,30))# Remove outliers:\n",
    "input_gen.data = input_gen.data[(input_gen.data['DurationHrs'] < 15) & (input_gen.data['DurationHrs'] > 1/6)]\n",
    "input_gen.data = input_gen.data[input_gen.data['cumEnergy_Wh'] / input_gen.data['DurationHrs'] <= 6700]\n",
    "\n",
    "input_gen.arrival_gen()\n",
    "input_gen.duration_gen()\n",
    "input_gen.energy_gen()\n",
    "\n",
    "input_df = input_gen.df\n",
    "\n",
    "#input_df['arrivalMin'] = input_df['arrivalMin'].apply(lambda x: round(x/30)*30 + 30)\n",
    "#input_df['arrivalMinGlobal'] = input_df['arrivalMinGlobal'].apply(lambda x: round(x/30)*30 + 30)\n",
    "input_df['durationMin'] = input_df['durationMin'].apply(lambda x: round(x/30)*30 + 90)\n",
    "input_df['cumEnergy_Wh'] = input_df['cumEnergy_Wh'].apply(lambda x: round(x/10)*10 + 10)\n",
    "\n",
    "input_df.head(10)"
   ]
  },
  {
   "cell_type": "code",
   "execution_count": 6,
   "id": "3f10dc1f-6568-4095-a3a5-9f88add3048a",
   "metadata": {},
   "outputs": [],
   "source": [
    "import simpy"
   ]
  },
  {
   "cell_type": "code",
   "execution_count": 7,
   "id": "0067f170-2566-4a79-b5ab-f7c44294ef8f",
   "metadata": {},
   "outputs": [
    {
     "name": "stdout",
     "output_type": "stream",
     "text": [
      "curr_time =  98\n",
      "departure_time =  278\n",
      "requested_energy =  20\n",
      "curr_time =  475\n",
      "departure_time =  1075\n",
      "requested_energy =  40\n",
      "curr_time =  487\n",
      "departure_time =  757\n",
      "requested_energy =  30\n",
      "curr_time =  544\n",
      "departure_time =  1174\n",
      "requested_energy =  20\n",
      "curr_time =  579\n",
      "departure_time =  969\n",
      "requested_energy =  40\n",
      "curr_time =  647\n",
      "departure_time =  1097\n",
      "requested_energy =  30\n",
      "curr_time =  659\n",
      "departure_time =  1019\n",
      "requested_energy =  40\n",
      "curr_time =  1115\n",
      "departure_time =  1385\n",
      "requested_energy =  20\n"
     ]
    },
    {
     "ename": "TypeError",
     "evalue": "'NoneType' object is not subscriptable",
     "output_type": "error",
     "traceback": [
      "\u001b[0;31m---------------------------------------------------------------------------\u001b[0m",
      "\u001b[0;31mTypeError\u001b[0m                                 Traceback (most recent call last)",
      "File \u001b[0;32m~/git/pev-digital-twin/tests/../src/pev_digital_twin.py:109\u001b[0m, in \u001b[0;36mcharger_station\u001b[0;34m(env, input_df, run_time)\u001b[0m\n\u001b[1;32m    107\u001b[0m \u001b[38;5;28mprint\u001b[39m(\u001b[38;5;124m'\u001b[39m\u001b[38;5;124mrequested_energy = \u001b[39m\u001b[38;5;124m'\u001b[39m, desired_energy)\n\u001b[0;32m--> 109\u001b[0m asap_price, flex_price \u001b[38;5;241m=\u001b[39m \u001b[43moptimizer_main\u001b[49m\u001b[43m(\u001b[49m\u001b[43mcurr_time\u001b[49m\u001b[38;5;241;43m=\u001b[39;49m\u001b[38;5;28;43mint\u001b[39;49m\u001b[43m(\u001b[49m\u001b[43menv\u001b[49m\u001b[38;5;241;43m.\u001b[39;49m\u001b[43mnow\u001b[49m\u001b[43m)\u001b[49m\u001b[43m,\u001b[49m\u001b[43m \u001b[49m\u001b[43mdeparture_time\u001b[49m\u001b[38;5;241;43m=\u001b[39;49m\u001b[38;5;28;43mint\u001b[39;49m\u001b[43m(\u001b[49m\u001b[43menv\u001b[49m\u001b[38;5;241;43m.\u001b[39;49m\u001b[43mnow\u001b[49m\u001b[43m)\u001b[49m\u001b[38;5;241;43m+\u001b[39;49m\u001b[38;5;28;43mint\u001b[39;49m\u001b[43m(\u001b[49m\u001b[43mstay_duration\u001b[49m\u001b[43m)\u001b[49m\u001b[43m,\u001b[49m\u001b[43m \u001b[49m\u001b[43mrequested_energy\u001b[49m\u001b[38;5;241;43m=\u001b[39;49m\u001b[43mdesired_energy\u001b[49m\u001b[43m,\u001b[49m\u001b[43m \u001b[49m\u001b[43mpwr_rate\u001b[49m\u001b[38;5;241;43m=\u001b[39;49m\u001b[38;5;241;43m6.6\u001b[39;49m\u001b[43m)\u001b[49m \u001b[38;5;66;03m#Divide by 1000 to have kWh\u001b[39;00m\n\u001b[1;32m    111\u001b[0m \u001b[38;5;66;03m#rates output\u001b[39;00m\n",
      "File \u001b[0;32m~/git/pev-digital-twin/tests/../src/optimization.py:533\u001b[0m, in \u001b[0;36moptimizer_main\u001b[0;34m(curr_time, departure_time, requested_energy, pwr_rate)\u001b[0m\n\u001b[1;32m    531\u001b[0m opt \u001b[38;5;241m=\u001b[39m Optimization(par, prb)\n\u001b[0;32m--> 533\u001b[0m res \u001b[38;5;241m=\u001b[39m \u001b[43mopt\u001b[49m\u001b[38;5;241;43m.\u001b[39;49m\u001b[43mrun_opt\u001b[49m\u001b[43m(\u001b[49m\u001b[43m)\u001b[49m\n\u001b[1;32m    535\u001b[0m \u001b[38;5;28;01mreturn\u001b[39;00m res[\u001b[38;5;124m'\u001b[39m\u001b[38;5;124mtariff_asap\u001b[39m\u001b[38;5;124m'\u001b[39m], res[\u001b[38;5;124m'\u001b[39m\u001b[38;5;124mtariff_flex\u001b[39m\u001b[38;5;124m'\u001b[39m]\n",
      "File \u001b[0;32m~/git/pev-digital-twin/tests/../src/optimization.py:429\u001b[0m, in \u001b[0;36mOptimization.run_opt\u001b[0;34m(self)\u001b[0m\n\u001b[1;32m    427\u001b[0m \u001b[38;5;66;03m# compute residual\u001b[39;00m\n\u001b[1;32m    428\u001b[0m \u001b[38;5;66;03m# print(Jk[count])\u001b[39;00m\n\u001b[0;32m--> 429\u001b[0m improve \u001b[38;5;241m=\u001b[39m Jk[count] \u001b[38;5;241m-\u001b[39m \u001b[43mJ_func\u001b[49m\u001b[43m(\u001b[49m\u001b[43mzk\u001b[49m\u001b[43m,\u001b[49m\u001b[43m \u001b[49m\u001b[43muk_flex\u001b[49m\u001b[43m,\u001b[49m\u001b[43m \u001b[49m\u001b[43mvk\u001b[49m\u001b[43m)\u001b[49m\u001b[38;5;241m.\u001b[39msum()\n\u001b[1;32m    430\u001b[0m \u001b[38;5;66;03m# print(J_func(zk, uk_flex, vk))\u001b[39;00m\n",
      "File \u001b[0;32m~/git/pev-digital-twin/tests/../src/optimization.py:362\u001b[0m, in \u001b[0;36mOptimization.run_opt.<locals>.J_func\u001b[0;34m(z, u, v)\u001b[0m\n\u001b[1;32m    355\u001b[0m \u001b[38;5;66;03m# reg_flex =  np.linalg.norm(u,2) * lam_x + z[0]**2 * lam_z_c\u001b[39;00m\n\u001b[1;32m    356\u001b[0m \n\u001b[1;32m    357\u001b[0m \u001b[38;5;66;03m#             print(f'u.T = {u.T}')\u001b[39;00m\n\u001b[1;32m    358\u001b[0m \u001b[38;5;66;03m#             print(f'z = {z}')\u001b[39;00m\n\u001b[1;32m    359\u001b[0m \u001b[38;5;66;03m#             print(f'TOU = {TOU}')\u001b[39;00m\n\u001b[1;32m    360\u001b[0m \u001b[38;5;66;03m#             print(f'delta_t = {delta_t}')\u001b[39;00m\n\u001b[0;32m--> 362\u001b[0m f_flex \u001b[38;5;241m=\u001b[39m u\u001b[38;5;241m.\u001b[39mT \u001b[38;5;241m@\u001b[39m (TOU \u001b[38;5;241m-\u001b[39m \u001b[43mz\u001b[49m\u001b[43m[\u001b[49m\u001b[38;5;241;43m0\u001b[39;49m\u001b[43m]\u001b[49m) \u001b[38;5;241m*\u001b[39m delta_t\n\u001b[1;32m    363\u001b[0m \u001b[38;5;66;03m# g_flex = lam_h_c * 1 / z[2] \u001b[39;00m\n",
      "\u001b[0;31mTypeError\u001b[0m: 'NoneType' object is not subscriptable",
      "\nThe above exception was the direct cause of the following exception:\n",
      "\u001b[0;31mTypeError\u001b[0m                                 Traceback (most recent call last)",
      "File \u001b[0;32m~/git/pev-digital-twin/tests/../src/pev_digital_twin.py:250\u001b[0m, in \u001b[0;36mfirst_process\u001b[0;34m(env, input_df, run_length)\u001b[0m\n\u001b[1;32m    249\u001b[0m \u001b[38;5;28;01mdef\u001b[39;00m \u001b[38;5;21mfirst_process\u001b[39m(env, input_df, run_length):\n\u001b[0;32m--> 250\u001b[0m     \u001b[38;5;28;01myield\u001b[39;00m env\u001b[38;5;241m.\u001b[39mprocess(charger_station(env, input_df, run_length))\n",
      "\u001b[0;31mTypeError\u001b[0m: 'NoneType' object is not subscriptable",
      "\nThe above exception was the direct cause of the following exception:\n",
      "\u001b[0;31mTypeError\u001b[0m                                 Traceback (most recent call last)",
      "Cell \u001b[0;32mIn [7], line 10\u001b[0m\n\u001b[1;32m      7\u001b[0m env \u001b[38;5;241m=\u001b[39m simpy\u001b[38;5;241m.\u001b[39mEnvironment()\n\u001b[1;32m      9\u001b[0m env\u001b[38;5;241m.\u001b[39mprocess(first_process(env, input_df, SIM_RUN_TIME))   \n\u001b[0;32m---> 10\u001b[0m \u001b[43menv\u001b[49m\u001b[38;5;241;43m.\u001b[39;49m\u001b[43mrun\u001b[49m\u001b[43m(\u001b[49m\u001b[43mSIM_RUN_TIME\u001b[49m\u001b[43m \u001b[49m\u001b[38;5;241;43m+\u001b[39;49m\u001b[43m \u001b[49m\u001b[38;5;241;43m10\u001b[39;49m\u001b[43m)\u001b[49m\n",
      "File \u001b[0;32m~/opt/anaconda3/envs/pev-digital-twin-env/lib/python3.10/site-packages/simpy/core.py:254\u001b[0m, in \u001b[0;36mEnvironment.run\u001b[0;34m(self, until)\u001b[0m\n\u001b[1;32m    252\u001b[0m \u001b[38;5;28;01mtry\u001b[39;00m:\n\u001b[1;32m    253\u001b[0m     \u001b[38;5;28;01mwhile\u001b[39;00m \u001b[38;5;28;01mTrue\u001b[39;00m:\n\u001b[0;32m--> 254\u001b[0m         \u001b[38;5;28;43mself\u001b[39;49m\u001b[38;5;241;43m.\u001b[39;49m\u001b[43mstep\u001b[49m\u001b[43m(\u001b[49m\u001b[43m)\u001b[49m\n\u001b[1;32m    255\u001b[0m \u001b[38;5;28;01mexcept\u001b[39;00m StopSimulation \u001b[38;5;28;01mas\u001b[39;00m exc:\n\u001b[1;32m    256\u001b[0m     \u001b[38;5;28;01mreturn\u001b[39;00m exc\u001b[38;5;241m.\u001b[39margs[\u001b[38;5;241m0\u001b[39m]  \u001b[38;5;66;03m# == until.value\u001b[39;00m\n",
      "File \u001b[0;32m~/opt/anaconda3/envs/pev-digital-twin-env/lib/python3.10/site-packages/simpy/core.py:206\u001b[0m, in \u001b[0;36mEnvironment.step\u001b[0;34m(self)\u001b[0m\n\u001b[1;32m    204\u001b[0m exc \u001b[38;5;241m=\u001b[39m \u001b[38;5;28mtype\u001b[39m(event\u001b[38;5;241m.\u001b[39m_value)(\u001b[38;5;241m*\u001b[39mevent\u001b[38;5;241m.\u001b[39m_value\u001b[38;5;241m.\u001b[39margs)\n\u001b[1;32m    205\u001b[0m exc\u001b[38;5;241m.\u001b[39m__cause__ \u001b[38;5;241m=\u001b[39m event\u001b[38;5;241m.\u001b[39m_value\n\u001b[0;32m--> 206\u001b[0m \u001b[38;5;28;01mraise\u001b[39;00m exc\n",
      "\u001b[0;31mTypeError\u001b[0m: 'NoneType' object is not subscriptable"
     ]
    }
   ],
   "source": [
    "# SIMULATION PARAMETERS\n",
    "NUM_DAYS = len(daily_sessions)\n",
    "SIM_RUN_TIME = 1440*NUM_DAYS\n",
    "CAR_ARR_TIME = 120\n",
    "CAR_STAY_TIME = 300\n",
    "\n",
    "env = simpy.Environment()\n",
    "\n",
    "env.process(first_process(env, input_df, SIM_RUN_TIME))   \n",
    "env.run(SIM_RUN_TIME + 10)"
   ]
  },
  {
   "cell_type": "markdown",
   "id": "7cce0962-6c29-4ea1-a8d4-d67019b559c0",
   "metadata": {
    "tags": []
   },
   "source": [
    "# Output Table"
   ]
  },
  {
   "cell_type": "markdown",
   "id": "74da0318-fee5-4839-831b-3181d584ba96",
   "metadata": {},
   "source": [
    "Generate dataframe"
   ]
  },
  {
   "cell_type": "code",
   "execution_count": null,
   "id": "db09a4bd-258f-4431-95e7-b84e519349fd",
   "metadata": {},
   "outputs": [],
   "source": [
    "df = pd.DataFrame({'session': session, 'choice': user_choice, 'arrival time': arrival_time, 'departure time': departure_time})\n",
    "df['durationHrs'] = (df['departure time'] - df['arrival time']) / 60\n",
    "df['arrival time'] = pd.Timestamp(2022, 4, 4, 9) + pd.TimedeltaIndex(df['arrival time'], unit='m')\n",
    "df['departure time'] = pd.Timestamp(2022, 4, 4, 9) + pd.TimedeltaIndex(df['departure time'], unit='m')"
   ]
  },
  {
   "cell_type": "code",
   "execution_count": null,
   "id": "48429fd9-609e-4dbc-bf1a-80e82c157a62",
   "metadata": {},
   "outputs": [],
   "source": [
    "df['vehicle_model'] = car_type\n",
    "\n",
    "df['energy_requested'] = energyreq\n",
    "\n",
    "df['rate_scheduled'] = rate_flex\n",
    "df['rate_regular'] = rate_asap\n",
    "\n",
    "df['sch_centsPerHr'] = ((df['rate_scheduled']*100)/df['durationHrs']).round(decimals=0)\n",
    "df['reg_centsPerHr'] = ((df['rate_regular']*100)/df['durationHrs']).round(decimals=0)\n",
    "\n",
    "df['energyReq_Wh'] = df['energy_requested']*1000\n",
    "\n",
    "df = df.drop('rate_scheduled', 1)\n",
    "df = df.drop('rate_regular', 1)\n",
    "df = df.drop('energy_requested', 1)\n",
    "\n",
    "df.head()"
   ]
  },
  {
   "cell_type": "code",
   "execution_count": null,
   "id": "4f6ede1b-1edb-4f06-acff-c0d44b229431",
   "metadata": {},
   "outputs": [],
   "source": [
    "def hr_func(ts):\n",
    "    return ts.hour\n",
    "df['arrival_hour'] = df['arrival time'].apply(hr_func)\n",
    "df['departure_hour'] = df['departure time'].apply(hr_func)"
   ]
  },
  {
   "cell_type": "code",
   "execution_count": null,
   "id": "054b27cb-510e-40a1-856a-ef9be030ac81",
   "metadata": {},
   "outputs": [],
   "source": [
    "df_hist = pd.DataFrame(df['arrival_hour'])\n",
    "df_hist['departure_hour']=df['departure_hour']\n",
    "\n",
    "# plot melted dataframe in a single command\n",
    "p=sns.histplot(df_hist.melt(), x='value', hue='variable',\n",
    "             multiple='dodge', shrink=.75, bins=20)\n",
    "\n",
    "p.set_xlabel(\"hour\", fontsize = 10)\n",
    "p.set_ylabel(\"frequency\", fontsize = 10);"
   ]
  },
  {
   "cell_type": "code",
   "execution_count": null,
   "id": "fcdc8a38-e3c6-4e9f-ab0a-b932cbba5c20",
   "metadata": {},
   "outputs": [],
   "source": [
    "df['vehicle_model'].value_counts().plot(kind='barh', figsize=(10, 10));"
   ]
  },
  {
   "cell_type": "code",
   "execution_count": null,
   "id": "111ba367-ceec-43a5-89e0-29f96a5b27d7",
   "metadata": {},
   "outputs": [],
   "source": [
    "df = df[df.choice != 'OCCUPIED']"
   ]
  },
  {
   "cell_type": "markdown",
   "id": "23b1f93e-d28b-40c1-b4a9-6c8924908e69",
   "metadata": {},
   "source": [
    "View consolidated simulation dataframe"
   ]
  },
  {
   "cell_type": "code",
   "execution_count": null,
   "id": "562636fe-7b8c-4f41-b9d6-cc7510cae53d",
   "metadata": {},
   "outputs": [],
   "source": [
    "df.head()"
   ]
  },
  {
   "cell_type": "markdown",
   "id": "d0aefcca-4b66-4d54-9aec-cbe34062565c",
   "metadata": {},
   "source": [
    "Arrival and departure frequency plot"
   ]
  },
  {
   "cell_type": "code",
   "execution_count": null,
   "id": "c6270f19-2b4b-4f10-a010-fc2be2ad1c70",
   "metadata": {},
   "outputs": [],
   "source": [
    "df_hist = pd.DataFrame(df['arrival_hour'])\n",
    "df_hist['departure_hour']=df['departure_hour']\n",
    "\n",
    "# plot melted dataframe in a single command\n",
    "p=sns.histplot(df_hist.melt(), x='value', hue='variable',\n",
    "             multiple='dodge', shrink=.75, bins=20)\n",
    "\n",
    "p.set_xlabel(\"hour\", fontsize = 10)\n",
    "p.set_ylabel(\"frequency\", fontsize = 10);"
   ]
  },
  {
   "cell_type": "markdown",
   "id": "ecd24451-f015-41fb-87a0-3aa185220d64",
   "metadata": {},
   "source": [
    "Plot of vehicle types"
   ]
  },
  {
   "cell_type": "code",
   "execution_count": null,
   "id": "d808e3ad-2cd1-4921-b21d-0bd414cd48f3",
   "metadata": {},
   "outputs": [],
   "source": [
    "df['vehicle_model'].value_counts().plot(kind='barh', figsize=(10, 10));"
   ]
  },
  {
   "cell_type": "code",
   "execution_count": null,
   "id": "cd880c6a-10a4-4f97-8b80-714b7951f816",
   "metadata": {},
   "outputs": [],
   "source": [
    "df['choice'].value_counts()"
   ]
  },
  {
   "cell_type": "markdown",
   "id": "8a649895-45e7-4eac-92a0-309e87976120",
   "metadata": {},
   "source": [
    "Distribution of user choice"
   ]
  },
  {
   "cell_type": "code",
   "execution_count": null,
   "id": "6c3c5af5-d383-4d04-8afe-c6f5b55690b9",
   "metadata": {},
   "outputs": [],
   "source": [
    "# Pie chart, where the slices will be ordered and plotted counter-clockwise:\n",
    "labels = 'REGULAR', 'SCHEDULED', 'LEAVE'\n",
    "sizes = [64, 22, 8]\n",
    "\n",
    "fig1, ax1 = plt.subplots()\n",
    "ax1.pie(sizes, labels=labels, autopct='%1.1f%%',\n",
    "        shadow=True, startangle=90)\n",
    "ax1.axis('equal')  # Equal aspect ratio ensures that pie is drawn as a circle.\n",
    "\n",
    "plt.show()"
   ]
  },
  {
   "cell_type": "markdown",
   "id": "93a287ca-af89-4017-b563-efd44292f99f",
   "metadata": {},
   "source": [
    "Plot session times"
   ]
  },
  {
   "cell_type": "code",
   "execution_count": null,
   "id": "2ac4627b-8a80-4903-b527-331c1d815a56",
   "metadata": {},
   "outputs": [],
   "source": [
    "sns.boxplot(x= df['durationHrs']) \n",
    "plt.title(\"Distribution of session times\");"
   ]
  },
  {
   "cell_type": "markdown",
   "id": "b436cc10-7b24-4269-8718-b2b03aa27f16",
   "metadata": {},
   "source": [
    "Plot energy Requirements"
   ]
  },
  {
   "cell_type": "code",
   "execution_count": null,
   "id": "012033d1-94d3-4f7d-aa50-9c3f5c865d1c",
   "metadata": {},
   "outputs": [],
   "source": [
    "sns.boxplot(x= df['energyReq_Wh']) \n",
    "plt.title(\"Distribution of Energy Required\");"
   ]
  },
  {
   "cell_type": "code",
   "execution_count": null,
   "id": "a296aafe-374f-4a30-b8e3-f9794fbed9fa",
   "metadata": {},
   "outputs": [],
   "source": []
  }
 ],
 "metadata": {
  "kernelspec": {
   "display_name": "Python 3 (ipykernel)",
   "language": "python",
   "name": "python3"
  },
  "language_info": {
   "codemirror_mode": {
    "name": "ipython",
    "version": 3
   },
   "file_extension": ".py",
   "mimetype": "text/x-python",
   "name": "python",
   "nbconvert_exporter": "python",
   "pygments_lexer": "ipython3",
   "version": "3.10.6"
  }
 },
 "nbformat": 4,
 "nbformat_minor": 5
}

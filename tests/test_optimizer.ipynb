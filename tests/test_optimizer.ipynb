{
 "cells": [
  {
   "cell_type": "markdown",
   "id": "6f13dea0-0fc2-40d4-9842-6fda9f7e712b",
   "metadata": {},
   "source": [
    "## This notebooks tests the optimizer for multiple test scenarios"
   ]
  },
  {
   "cell_type": "code",
   "execution_count": 5,
   "id": "dbd9271e-659e-49fd-8185-2a627a05f152",
   "metadata": {},
   "outputs": [],
   "source": [
    "import sys, os\n",
    "sys.path.insert(1, os.getcwd() + '\\..\\src')\n",
    "sys.path.insert(1, os.getcwd() + '/../src')"
   ]
  },
  {
   "cell_type": "code",
   "execution_count": 6,
   "id": "70ba55fd-5115-48bc-8084-4b9614211b0e",
   "metadata": {},
   "outputs": [],
   "source": [
    "from optimization import *"
   ]
  },
  {
   "cell_type": "code",
   "execution_count": 7,
   "id": "fe5f522d-bc5d-4c69-9f1f-9d62b2bfa23a",
   "metadata": {},
   "outputs": [
    {
     "name": "stderr",
     "output_type": "stream",
     "text": [
      "/Users/daryadarvish/opt/anaconda3/envs/pev-digital-twin-env/lib/python3.10/site-packages/cvxpy/problems/problem.py:1337: UserWarning: Solution may be inaccurate. Try another solver, adjusting the solver settings, or solve with verbose=True for more information.\n",
      "  warnings.warn(\n"
     ]
    }
   ],
   "source": [
    "asap, flex = optimizer_main(curr_time=977, departure_time=1300, requested_energy=20, pwr_rate=3.3)"
   ]
  },
  {
   "cell_type": "code",
   "execution_count": 8,
   "id": "5ef426ec-a835-4bd3-92b1-198022a7144d",
   "metadata": {},
   "outputs": [
    {
     "data": {
      "text/plain": [
       "(63.880132778997215, 42.97589979183559)"
      ]
     },
     "execution_count": 8,
     "metadata": {},
     "output_type": "execute_result"
    }
   ],
   "source": [
    "asap, flex"
   ]
  },
  {
   "cell_type": "code",
   "execution_count": 9,
   "id": "923d0041-c86a-4cdc-8b68-738811e107c4",
   "metadata": {},
   "outputs": [
    {
     "ename": "TypeError",
     "evalue": "'NoneType' object is not subscriptable",
     "output_type": "error",
     "traceback": [
      "\u001b[0;31m---------------------------------------------------------------------------\u001b[0m",
      "\u001b[0;31mTypeError\u001b[0m                                 Traceback (most recent call last)",
      "Cell \u001b[0;32mIn [9], line 1\u001b[0m\n\u001b[0;32m----> 1\u001b[0m asap, flex \u001b[38;5;241m=\u001b[39m \u001b[43moptimizer_main\u001b[49m\u001b[43m(\u001b[49m\u001b[43mcurr_time\u001b[49m\u001b[38;5;241;43m=\u001b[39;49m\u001b[38;5;241;43m977\u001b[39;49m\u001b[43m,\u001b[49m\u001b[43m \u001b[49m\u001b[43mdeparture_time\u001b[49m\u001b[38;5;241;43m=\u001b[39;49m\u001b[38;5;241;43m1300\u001b[39;49m\u001b[43m,\u001b[49m\u001b[43m \u001b[49m\u001b[43mrequested_energy\u001b[49m\u001b[38;5;241;43m=\u001b[39;49m\u001b[38;5;241;43m20\u001b[39;49m\u001b[43m,\u001b[49m\u001b[43m \u001b[49m\u001b[43mpwr_rate\u001b[49m\u001b[38;5;241;43m=\u001b[39;49m\u001b[38;5;241;43m6.6\u001b[39;49m\u001b[43m)\u001b[49m\n",
      "File \u001b[0;32m~/git/pev-digital-twin/tests/../src/optimization.py:533\u001b[0m, in \u001b[0;36moptimizer_main\u001b[0;34m(curr_time, departure_time, requested_energy, pwr_rate)\u001b[0m\n\u001b[1;32m    529\u001b[0m prb \u001b[38;5;241m=\u001b[39m Problem(par\u001b[38;5;241m=\u001b[39mpar, event\u001b[38;5;241m=\u001b[39mevent)\n\u001b[1;32m    531\u001b[0m opt \u001b[38;5;241m=\u001b[39m Optimization(par, prb)\n\u001b[0;32m--> 533\u001b[0m res \u001b[38;5;241m=\u001b[39m \u001b[43mopt\u001b[49m\u001b[38;5;241;43m.\u001b[39;49m\u001b[43mrun_opt\u001b[49m\u001b[43m(\u001b[49m\u001b[43m)\u001b[49m\n\u001b[1;32m    535\u001b[0m \u001b[38;5;28;01mreturn\u001b[39;00m res[\u001b[38;5;124m'\u001b[39m\u001b[38;5;124mtariff_asap\u001b[39m\u001b[38;5;124m'\u001b[39m], res[\u001b[38;5;124m'\u001b[39m\u001b[38;5;124mtariff_flex\u001b[39m\u001b[38;5;124m'\u001b[39m]\n",
      "File \u001b[0;32m~/git/pev-digital-twin/tests/../src/optimization.py:429\u001b[0m, in \u001b[0;36mOptimization.run_opt\u001b[0;34m(self)\u001b[0m\n\u001b[1;32m    425\u001b[0m zk \u001b[38;5;241m=\u001b[39m \u001b[38;5;28mself\u001b[39m\u001b[38;5;241m.\u001b[39margmin_z(uk_flex, vk)\n\u001b[1;32m    427\u001b[0m \u001b[38;5;66;03m# compute residual\u001b[39;00m\n\u001b[1;32m    428\u001b[0m \u001b[38;5;66;03m# print(Jk[count])\u001b[39;00m\n\u001b[0;32m--> 429\u001b[0m improve \u001b[38;5;241m=\u001b[39m Jk[count] \u001b[38;5;241m-\u001b[39m \u001b[43mJ_func\u001b[49m\u001b[43m(\u001b[49m\u001b[43mzk\u001b[49m\u001b[43m,\u001b[49m\u001b[43m \u001b[49m\u001b[43muk_flex\u001b[49m\u001b[43m,\u001b[49m\u001b[43m \u001b[49m\u001b[43mvk\u001b[49m\u001b[43m)\u001b[49m\u001b[38;5;241m.\u001b[39msum()\n\u001b[1;32m    430\u001b[0m \u001b[38;5;66;03m# print(J_func(zk, uk_flex, vk))\u001b[39;00m\n\u001b[1;32m    431\u001b[0m count \u001b[38;5;241m+\u001b[39m\u001b[38;5;241m=\u001b[39m \u001b[38;5;241m1\u001b[39m\n",
      "File \u001b[0;32m~/git/pev-digital-twin/tests/../src/optimization.py:362\u001b[0m, in \u001b[0;36mOptimization.run_opt.<locals>.J_func\u001b[0;34m(z, u, v)\u001b[0m\n\u001b[1;32m    353\u001b[0m soft_v_eta \u001b[38;5;241m=\u001b[39m \u001b[38;5;28mself\u001b[39m\u001b[38;5;241m.\u001b[39mParameters\u001b[38;5;241m.\u001b[39msoft_v_eta\n\u001b[1;32m    355\u001b[0m \u001b[38;5;66;03m# reg_flex =  np.linalg.norm(u,2) * lam_x + z[0]**2 * lam_z_c\u001b[39;00m\n\u001b[1;32m    356\u001b[0m \n\u001b[1;32m    357\u001b[0m \u001b[38;5;66;03m#             print(f'u.T = {u.T}')\u001b[39;00m\n\u001b[1;32m    358\u001b[0m \u001b[38;5;66;03m#             print(f'z = {z}')\u001b[39;00m\n\u001b[1;32m    359\u001b[0m \u001b[38;5;66;03m#             print(f'TOU = {TOU}')\u001b[39;00m\n\u001b[1;32m    360\u001b[0m \u001b[38;5;66;03m#             print(f'delta_t = {delta_t}')\u001b[39;00m\n\u001b[0;32m--> 362\u001b[0m f_flex \u001b[38;5;241m=\u001b[39m u\u001b[38;5;241m.\u001b[39mT \u001b[38;5;241m@\u001b[39m (TOU \u001b[38;5;241m-\u001b[39m \u001b[43mz\u001b[49m\u001b[43m[\u001b[49m\u001b[38;5;241;43m0\u001b[39;49m\u001b[43m]\u001b[49m) \u001b[38;5;241m*\u001b[39m delta_t\n\u001b[1;32m    363\u001b[0m \u001b[38;5;66;03m# g_flex = lam_h_c * 1 / z[2] \u001b[39;00m\n\u001b[1;32m    365\u001b[0m J_1 \u001b[38;5;241m=\u001b[39m v[\u001b[38;5;241m0\u001b[39m] \u001b[38;5;241m*\u001b[39m (f_flex)\n",
      "\u001b[0;31mTypeError\u001b[0m: 'NoneType' object is not subscriptable"
     ]
    }
   ],
   "source": [
    "asap, flex = optimizer_main(curr_time=977, departure_time=1300, requested_energy=20, pwr_rate=6.6)"
   ]
  },
  {
   "cell_type": "code",
   "execution_count": null,
   "id": "cf5e422c-3fa1-4cca-a2b6-98ac532678d2",
   "metadata": {},
   "outputs": [],
   "source": [
    "asap, flex"
   ]
  },
  {
   "cell_type": "code",
   "execution_count": null,
   "id": "9d892bc2-670c-4034-a94d-762cfc53c301",
   "metadata": {},
   "outputs": [],
   "source": [
    "asap, flex = optimizer_main(curr_time=977, departure_time=1300, requested_energy=10, pwr_rate=6.6)"
   ]
  },
  {
   "cell_type": "code",
   "execution_count": null,
   "id": "9de2a288-a0e1-4a9c-8b7a-5454668795fd",
   "metadata": {},
   "outputs": [],
   "source": [
    "asap, flex"
   ]
  },
  {
   "cell_type": "code",
   "execution_count": null,
   "id": "cf1fe957-fb60-49f2-a3f0-66de37946b64",
   "metadata": {},
   "outputs": [],
   "source": []
  }
 ],
 "metadata": {
  "kernelspec": {
   "display_name": "Python 3 (ipykernel)",
   "language": "python",
   "name": "python3"
  },
  "language_info": {
   "codemirror_mode": {
    "name": "ipython",
    "version": 3
   },
   "file_extension": ".py",
   "mimetype": "text/x-python",
   "name": "python",
   "nbconvert_exporter": "python",
   "pygments_lexer": "ipython3",
   "version": "3.10.6"
  }
 },
 "nbformat": 4,
 "nbformat_minor": 5
}

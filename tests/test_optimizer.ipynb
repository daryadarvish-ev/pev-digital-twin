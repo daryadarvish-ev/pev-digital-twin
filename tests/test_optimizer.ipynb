{
 "cells": [
  {
   "cell_type": "markdown",
   "id": "6f13dea0-0fc2-40d4-9842-6fda9f7e712b",
   "metadata": {},
   "source": [
    "## This notebooks tests the optimizer for multiple test scenarios"
   ]
  },
  {
   "cell_type": "code",
   "execution_count": null,
   "id": "dbd9271e-659e-49fd-8185-2a627a05f152",
   "metadata": {},
   "outputs": [],
   "source": [
    "import sys, os\n",
    "sys.path.insert(1, os.getcwd() + '\\..\\src')\n",
    "sys.path.insert(1, os.getcwd() + '/../src')"
   ]
  },
  {
   "cell_type": "code",
   "execution_count": 5,
   "id": "70ba55fd-5115-48bc-8084-4b9614211b0e",
   "metadata": {},
   "outputs": [],
   "source": [
    "from optimization import *"
   ]
  },
  {
   "cell_type": "code",
   "execution_count": null,
   "id": "fe5f522d-bc5d-4c69-9f1f-9d62b2bfa23a",
   "metadata": {},
   "outputs": [
    {
     "name": "stderr",
     "output_type": "stream",
     "text": [
      "/Users/daryadarvish/opt/anaconda3/envs/pev-digital-twin-env/lib/python3.10/site-packages/cvxpy/problems/problem.py:1337: UserWarning: Solution may be inaccurate. Try another solver, adjusting the solver settings, or solve with verbose=True for more information.\n",
      "  warnings.warn(\n"
     ]
    }
   ],
   "source": [
    "asap, flex = optimizer_main(curr_time=977, departure_time=1300, requested_energy=20, pwr_rate=3.3)"
   ]
  },
  {
   "cell_type": "code",
   "execution_count": null,
   "id": "5ef426ec-a835-4bd3-92b1-198022a7144d",
   "metadata": {},
   "outputs": [],
   "source": [
    "asap, flex"
   ]
  },
  {
   "cell_type": "code",
   "execution_count": null,
   "id": "923d0041-c86a-4cdc-8b68-738811e107c4",
   "metadata": {},
   "outputs": [],
   "source": [
    "asap, flex = optimizer_main(curr_time=977, departure_time=1300, requested_energy=20, pwr_rate=6.6)"
   ]
  },
  {
   "cell_type": "code",
   "execution_count": null,
   "id": "cf5e422c-3fa1-4cca-a2b6-98ac532678d2",
   "metadata": {},
   "outputs": [],
   "source": [
    "asap, flex"
   ]
  },
  {
   "cell_type": "code",
   "execution_count": null,
   "id": "9d892bc2-670c-4034-a94d-762cfc53c301",
   "metadata": {},
   "outputs": [],
   "source": [
    "asap, flex = optimizer_main(curr_time=977, departure_time=1300, requested_energy=10, pwr_rate=6.6)"
   ]
  },
  {
   "cell_type": "code",
   "execution_count": null,
   "id": "9de2a288-a0e1-4a9c-8b7a-5454668795fd",
   "metadata": {},
   "outputs": [],
   "source": [
    "asap, flex"
   ]
  },
  {
   "cell_type": "code",
   "execution_count": null,
   "id": "1c1d0d7e-5e20-421f-b12a-55328dcac28d",
   "metadata": {},
   "outputs": [],
   "source": []
  }
 ],
 "metadata": {
  "kernelspec": {
   "display_name": "Python 3 (ipykernel)",
   "language": "python",
   "name": "python3"
  },
  "language_info": {
   "codemirror_mode": {
    "name": "ipython",
    "version": 3
   },
   "file_extension": ".py",
   "mimetype": "text/x-python",
   "name": "python",
   "nbconvert_exporter": "python",
   "pygments_lexer": "ipython3",
   "version": "3.10.6"
  }
 },
 "nbformat": 4,
 "nbformat_minor": 5
}
